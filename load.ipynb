{
 "cells": [
  {
   "cell_type": "code",
   "execution_count": 1,
   "metadata": {},
   "outputs": [
    {
     "name": "stdout",
     "output_type": "stream",
     "text": [
      "5.0.1\n",
      "c:\\Users\\kvive_qz6f7mf\\anaconda3\\envs\\rag\\python.exe\n"
     ]
    }
   ],
   "source": [
    "from dotenv import load_dotenv\n",
    "load_dotenv()\n",
    "\n",
    "\n",
    "import os \n",
    "import pinecone\n",
    "print(pinecone.__version__)\n",
    "from openai import OpenAI\n",
    "from pinecone import Pinecone, ServerlessSpec\n",
    "\n",
    "import sys\n",
    "print(sys.executable)\n",
    "\n"
   ]
  },
  {
   "cell_type": "code",
   "execution_count": 2,
   "metadata": {},
   "outputs": [],
   "source": [
    "load_dotenv('.env.local')\n",
    "pc = Pinecone(api_key=os.getenv('PINECONE_API_KEY'))\n",
    "pc.create_index(\n",
    "    name=\"rag\",\n",
    "    dimension=1536,\n",
    "    metric=\"cosine\",\n",
    "    spec=ServerlessSpec(cloud=\"aws\", region=\"us-east-1\")\n",
    "\n",
    ")"
   ]
  },
  {
   "cell_type": "code",
   "execution_count": 10,
   "metadata": {},
   "outputs": [
    {
     "name": "stdout",
     "output_type": "stream",
     "text": [
      "<class 'dict'>\n",
      "{'reviews': [{'Professor': 'Dr. Jane Smith', 'subject': 'Physics', 'stars': 5, 'review': 'Dr. Smith is an excellent professor. She explains complex topics in a very clear and understandable way. Her lectures are engaging, and she is always willing to help students.'}, {'Professor': 'Dr. John Doe', 'subject': 'Mathematics', 'stars': 4, 'review': \"Dr. Doe is very knowledgeable, but his lectures can be a bit fast-paced. It's important to keep up with the material. However, he is always available during office hours.\"}, {'Professor': 'Dr. Emily Johnson', 'subject': 'Chemistry', 'stars': 3, 'review': 'Dr. Johnson is a decent professor, but her lectures can be a bit monotonous. She knows the subject well, but sometimes struggles to convey the material effectively.'}, {'Professor': 'Dr. Mark Williams', 'subject': 'History', 'stars': 2, 'review': \"Dr. Williams is a tough grader and his lectures are often dry. He expects a lot from students, but doesn't provide much support outside of class.\"}, {'Professor': 'Dr. Sarah Davis', 'subject': 'Biology', 'stars': 4, 'review': 'Dr. Davis is a great professor. She makes the material interesting and is very approachable. However, the exams can be challenging.'}, {'Professor': 'Dr. Robert Brown', 'subject': 'Philosophy', 'stars': 5, 'review': 'Dr. Brown is an amazing professor. His lectures are thought-provoking and he encourages deep discussions. A must-take class!'}, {'Professor': 'Dr. Laura Miller', 'subject': 'Economics', 'stars': 3, 'review': \"Dr. Miller's lectures are informative but can be a bit dry. She is knowledgeable but sometimes hard to follow.\"}, {'Professor': 'Dr. Michael Anderson', 'subject': 'Computer Science', 'stars': 4, 'review': 'Dr. Anderson is very knowledgeable and his lectures are well-structured. However, the assignments can be quite difficult.'}, {'Professor': 'Dr. Karen Martinez', 'subject': 'Sociology', 'stars': 5, 'review': 'Dr. Martinez is a fantastic professor. She is very engaging and really cares about her students. Her classes are always interesting.'}, {'Professor': 'Dr. Daniel Lee', 'subject': 'Political Science', 'stars': 3, 'review': \"Dr. Lee's lectures are informative, but sometimes lack depth. He is a fair grader but doesn't offer much support outside of class.\"}, {'Professor': 'Dr. Jessica Garcia', 'subject': 'Literature', 'stars': 5, 'review': 'Dr. Garcia is a wonderful professor. Her passion for literature is contagious and her classes are always enjoyable.'}, {'Professor': 'Dr. Richard Wilson', 'subject': 'Physics', 'stars': 2, 'review': \"Dr. Wilson's lectures are very difficult to follow. He is knowledgeable, but his teaching style is not very effective.\"}, {'Professor': 'Dr. Amy Thompson', 'subject': 'Psychology', 'stars': 4, 'review': 'Dr. Thompson is a good professor. She is clear in her explanations and her exams are fair. The material can be challenging but rewarding.'}, {'Professor': 'Dr. William White', 'subject': 'Anthropology', 'stars': 3, 'review': 'Dr. White is an average professor. His lectures are informative but not very engaging. The exams are straightforward.'}, {'Professor': 'Dr. Megan Harris', 'subject': 'Statistics', 'stars': 4, 'review': 'Dr. Harris is a solid professor. Her lectures are clear and well-organized. However, the homework can be quite challenging.'}, {'Professor': 'Dr. Kevin Clark', 'subject': 'Philosophy', 'stars': 5, 'review': 'Dr. Clark is an outstanding professor. He is very knowledgeable and his lectures are always interesting and engaging.'}, {'Professor': 'Dr. Angela Lewis', 'subject': 'History', 'stars': 2, 'review': \"Dr. Lewis's lectures are very dry and it's hard to stay engaged. The material is interesting, but her teaching style is not.\"}, {'Professor': 'Dr. Thomas Robinson', 'subject': 'Economics', 'stars': 3, 'review': 'Dr. Robinson is a decent professor. His lectures are straightforward but not particularly engaging. The exams are fair.'}, {'Professor': 'Dr. Rachel Hall', 'subject': 'Chemistry', 'stars': 4, 'review': 'Dr. Hall is a good professor. She explains the material well and is always willing to help students. The labs can be challenging.'}, {'Professor': 'Dr. James Scott', 'subject': 'Mathematics', 'stars': 5, 'review': 'Dr. Scott is an excellent professor. His explanations are clear and he makes difficult concepts easy to understand.'}]}\n"
     ]
    }
   ],
   "source": [
    "import json\n",
    "\n",
    "# Load the JSON data\n",
    "data = json.load(open(\"reviews.json\"))\n",
    "\n",
    "# Print the loaded data to see its structure\n",
    "print(type(data))\n",
    "print(data)\n"
   ]
  },
  {
   "cell_type": "markdown",
   "metadata": {},
   "source": []
  },
  {
   "cell_type": "code",
   "execution_count": 13,
   "metadata": {},
   "outputs": [],
   "source": [
    "processed_data = []\n",
    "\n",
    "client = OpenAI()\n",
    "\n",
    "for review in data['reviews']:\n",
    "    response=client.embeddings.create(\n",
    "        input=review['review'],\n",
    "        model=\"text-embedding-3-small\"\n",
    "\n",
    "    )\n",
    "\n",
    "    embedding = response.data[0].embedding\n",
    "    processed_data.append({\n",
    "        \"values\":embedding,\n",
    "        \"id\":review[\"Professor\"],\n",
    "        \"metadata\":{\n",
    "            \"review\":review[\"review\"],\n",
    "            \"subject\": review[\"subject\"],\n",
    "            \"stars\": review[\"stars\"]\n",
    "        }\n",
    "    })"
   ]
  },
  {
   "cell_type": "code",
   "execution_count": 14,
   "metadata": {},
   "outputs": [
    {
     "data": {
      "text/plain": [
       "{'upserted_count': 20}"
      ]
     },
     "execution_count": 14,
     "metadata": {},
     "output_type": "execute_result"
    }
   ],
   "source": [
    "index = pc.Index('rag')\n",
    "index.upsert(\n",
    "    vectors=processed_data,\n",
    "    namespace=\"ns1\"\n",
    ")"
   ]
  },
  {
   "cell_type": "code",
   "execution_count": 15,
   "metadata": {},
   "outputs": [
    {
     "data": {
      "text/plain": [
       "{'dimension': 1536,\n",
       " 'index_fullness': 0.0,\n",
       " 'namespaces': {'ns1': {'vector_count': 20}},\n",
       " 'total_vector_count': 20}"
      ]
     },
     "execution_count": 15,
     "metadata": {},
     "output_type": "execute_result"
    }
   ],
   "source": [
    "\n",
    "index.describe_index_stats()"
   ]
  }
 ],
 "metadata": {
  "kernelspec": {
   "display_name": "Python 3 (ipykernel)",
   "language": "python",
   "name": "python3"
  },
  "language_info": {
   "codemirror_mode": {
    "name": "ipython",
    "version": 3
   },
   "file_extension": ".py",
   "mimetype": "text/x-python",
   "name": "python",
   "nbconvert_exporter": "python",
   "pygments_lexer": "ipython3",
   "version": "3.10.4"
  }
 },
 "nbformat": 4,
 "nbformat_minor": 4
}
