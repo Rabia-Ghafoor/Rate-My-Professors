{
 "cells": [
  {
   "cell_type": "code",
   "execution_count": 31,
   "metadata": {},
   "outputs": [
    {
     "name": "stdout",
     "output_type": "stream",
     "text": [
      "5.0.1\n",
      "/Users/rabiaghafoor/miniconda3/envs/rag/bin/python\n"
     ]
    }
   ],
   "source": [
    "from dotenv import load_dotenv\n",
    "load_dotenv()\n",
    "\n",
    "\n",
    "import os \n",
    "import pinecone\n",
    "print(pinecone.__version__)\n",
    "from openai import OpenAI\n",
    "from pinecone import Pinecone, ServerlessSpec\n",
    "\n",
    "import sys\n",
    "print(sys.executable)\n",
    "\n"
   ]
  },
  {
   "cell_type": "code",
   "execution_count": 39,
   "metadata": {},
   "outputs": [],
   "source": [
    "load_dotenv('.env.local')\n",
    "pc = Pinecone(api_key=os.getenv('PINECONE_API_KEY'))\n",
    "pc.create_index(\n",
    "    name=\"rag\",\n",
    "    dimension=1536,\n",
    "    metric=\"cosine\",\n",
    "    spec=ServerlessSpec(cloud=\"aws\", region=\"us-east-1\")\n",
    "\n",
    ")"
   ]
  },
  {
   "cell_type": "code",
   "execution_count": 12,
   "metadata": {},
   "outputs": [
    {
     "name": "stdout",
     "output_type": "stream",
     "text": [
      "<class 'list'>\n",
      "[{'Professor': 'Dr. Jane Smith', 'Subject': 'Physics', 'stars': 5, 'review': 'Dr. Smith is an excellent professor. She explains complex topics in a very clear and understandable way. Her lectures are engaging, and she is always willing to help students.'}, {'Professor': 'Dr. John Doe', 'Subject': 'Mathematics', 'stars': 4, 'review': \"Dr. Doe is very knowledgeable, but his lectures can be a bit fast-paced. It's important to keep up with the material. However, he is always available during office hours.\"}, {'Professor': 'Dr. Emily Johnson', 'Subject': 'Chemistry', 'stars': 3, 'review': 'Dr. Johnson is a decent professor, but her lectures can be a bit monotonous. She knows the subject well, but sometimes struggles to convey the material effectively.'}, {'Professor': 'Dr. Mark Williams', 'Subject': 'History', 'stars': 2, 'review': \"Dr. Williams is a tough grader and his lectures are often dry. He expects a lot from students, but doesn't provide much support outside of class.\"}, {'Professor': 'Dr. Sarah Davis', 'Subject': 'Biology', 'stars': 4, 'review': 'Dr. Davis is a great professor. She makes the material interesting and is very approachable. However, the exams can be challenging.'}, {'Professor': 'Dr. Robert Brown', 'Subject': 'Philosophy', 'stars': 5, 'review': 'Dr. Brown is an amazing professor. His lectures are thought-provoking and he encourages deep discussions. A must-take class!'}, {'Professor': 'Dr. Laura Miller', 'Subject': 'Economics', 'stars': 3, 'review': \"Dr. Miller's lectures are informative but can be a bit dry. She is knowledgeable but sometimes hard to follow.\"}, {'Professor': 'Dr. Michael Anderson', 'Subject': 'Computer Science', 'stars': 4, 'review': 'Dr. Anderson is very knowledgeable and his lectures are well-structured. However, the assignments can be quite difficult.'}, {'Professor': 'Dr. Karen Martinez', 'Subject': 'Sociology', 'stars': 5, 'review': 'Dr. Martinez is a fantastic professor. She is very engaging and really cares about her students. Her classes are always interesting.'}, {'Professor': 'Dr. Daniel Lee', 'Subject': 'Political Science', 'stars': 3, 'review': \"Dr. Lee's lectures are informative, but sometimes lack depth. He is a fair grader but doesn't offer much support outside of class.\"}, {'Professor': 'Dr. Jessica Garcia', 'Subject': 'Literature', 'stars': 5, 'review': 'Dr. Garcia is a wonderful professor. Her passion for literature is contagious and her classes are always enjoyable.'}, {'Professor': 'Dr. Richard Wilson', 'Subject': 'Physics', 'stars': 2, 'review': \"Dr. Wilson's lectures are very difficult to follow. He is knowledgeable, but his teaching style is not very effective.\"}, {'Professor': 'Dr. Amy Thompson', 'Subject': 'Psychology', 'stars': 4, 'review': 'Dr. Thompson is a good professor. She is clear in her explanations and her exams are fair. The material can be challenging but rewarding.'}, {'Professor': 'Dr. William White', 'Subject': 'Anthropology', 'stars': 3, 'review': 'Dr. White is an average professor. His lectures are informative but not very engaging. The exams are straightforward.'}, {'Professor': 'Dr. Megan Harris', 'Subject': 'Statistics', 'stars': 4, 'review': 'Dr. Harris is a solid professor. Her lectures are clear and well-organized. However, the homework can be quite challenging.'}, {'Professor': 'Dr. Kevin Clark', 'Subject': 'Philosophy', 'stars': 5, 'review': 'Dr. Clark is an outstanding professor. He is very knowledgeable and his lectures are always interesting and engaging.'}, {'Professor': 'Dr. Angela Lewis', 'Subject': 'History', 'stars': 2, 'review': \"Dr. Lewis's lectures are very dry and it's hard to stay engaged. The material is interesting, but her teaching style is not.\"}, {'Professor': 'Dr. Thomas Robinson', 'Subject': 'Economics', 'stars': 3, 'review': 'Dr. Robinson is a decent professor. His lectures are straightforward but not particularly engaging. The exams are fair.'}, {'Professor': 'Dr. Rachel Hall', 'Subject': 'Chemistry', 'stars': 4, 'review': 'Dr. Hall is a good professor. She explains the material well and is always willing to help students. The labs can be challenging.'}, {'Professor': 'Dr. James Scott', 'Subject': 'Mathematics', 'stars': 5, 'review': 'Dr. Scott is an excellent professor. His explanations are clear and he makes difficult concepts easy to understand.'}]\n"
     ]
    }
   ],
   "source": [
    "import json\n",
    "\n",
    "# Load the JSON data\n",
    "data = json.load(open(\"reviews.json\"))\n",
    "\n",
    "# Print the loaded data to see its structure\n",
    "print(type(data))\n",
    "print(data)\n"
   ]
  },
  {
   "cell_type": "markdown",
   "metadata": {},
   "source": []
  },
  {
   "cell_type": "code",
   "execution_count": 31,
   "metadata": {},
   "outputs": [
    {
     "name": "stdout",
     "output_type": "stream",
     "text": [
      "No review found or 'data' is not structured as expected.\n"
     ]
    }
   ],
   "source": [
    "import openai\n",
    "\n",
    "# Initialize the OpenAI client with your API key\n",
    "openai.api_key = \"sk-lLrCZu3nEASz8-WNnTXPmfL1EocyHeN2J_yNh6CbaoT3BlbkFJ3LJtmWUq1idwEdtWbvlJAskOdPyxJOlTq_TD5r8m4A\"  # Replace with your actual API key\n",
    "\n",
    "processed_data = []\n",
    "\n",
    "# Ensure 'data' and 'reviews' are available\n",
    "if 'review' in data and isinstance(data['review'], list):\n",
    "    for review in data['review']:\n",
    "        try:\n",
    "            response = openai.Embedding.create(\n",
    "                input=review['review'],\n",
    "                model=\"text-embedding-ada-002\"  # Updated model name\n",
    "            )\n",
    "\n",
    "            embedding = response['data'][0]['embedding']\n",
    "            processed_data.append({\n",
    "                \"values\": embedding,\n",
    "                \"id\": review.get('Proffesor', 'Unknown'),  # Added fallback for missing 'Proffesor'\n",
    "                \"metadata\": {\n",
    "                   \n",
    "                    \"Subject\": review.get(\"Subject\", \"Unknown subject\"),\n",
    "                    \"stars\": review.get(\"stars\", \"No rating\"),\n",
    "                    \"review\": review.get(\"review\", \"No review text\")\n",
    "                }\n",
    "            })\n",
    "        except Exception as e:\n",
    "            print(f\"Error processing review: {e}\")\n",
    "else:\n",
    "    print(\"No review found or 'data' is not structured as expected.\")\n",
    "\n",
    "\n"
   ]
  },
  {
   "cell_type": "code",
   "execution_count": 33,
   "metadata": {},
   "outputs": [
    {
     "ename": "IndexError",
     "evalue": "list index out of range",
     "output_type": "error",
     "traceback": [
      "\u001b[0;31m---------------------------------------------------------------------------\u001b[0m",
      "\u001b[0;31mIndexError\u001b[0m                                Traceback (most recent call last)",
      "Cell \u001b[0;32mIn[33], line 1\u001b[0m\n\u001b[0;32m----> 1\u001b[0m \u001b[43mprocessed_data\u001b[49m\u001b[43m[\u001b[49m\u001b[38;5;241;43m0\u001b[39;49m\u001b[43m]\u001b[49m\n",
      "\u001b[0;31mIndexError\u001b[0m: list index out of range"
     ]
    }
   ],
   "source": [
    "processed_data[0]"
   ]
  }
 ],
 "metadata": {
  "kernelspec": {
   "display_name": "rag",
   "language": "python",
   "name": "python3"
  },
  "language_info": {
   "codemirror_mode": {
    "name": "ipython",
    "version": 3
   },
   "file_extension": ".py",
   "mimetype": "text/x-python",
   "name": "python",
   "nbconvert_exporter": "python",
   "pygments_lexer": "ipython3",
   "version": "3.10.14"
  }
 },
 "nbformat": 4,
 "nbformat_minor": 2
}
